{
 "cells": [
  {
   "cell_type": "markdown",
   "metadata": {},
   "source": [
    "# Air Quality Index Prediction"
   ]
  },
  {
   "cell_type": "markdown",
   "metadata": {},
   "source": [
    "#### Data Dictionary\n",
    "\n",
    "    State  : State code where the recording was made\n",
    "    County : County code of the country where the recording was made\n",
    "    City   : City code of the city where the recording was made\n",
    "    Date   : Date when the recording was made\n",
    "    Average_Value : Average concentration of the given pollutant on that day\n",
    "    Max_Value_of_the_Day : The maximum value obtained for the pollutant concentration in a given day\n",
    "    Hour_of_Max_Value : The hour where maximum concentration of the pollutant was recorded in a given day\n",
    "    Pollutant_AQI : Air quality index of the pollutant\n",
    "    Pollutant_Type : The type of the given pollutant"
   ]
  },
  {
   "cell_type": "markdown",
   "metadata": {},
   "source": [
    "#### Import the required libraries"
   ]
  },
  {
   "cell_type": "code",
   "execution_count": 1,
   "metadata": {
    "collapsed": true
   },
   "outputs": [],
   "source": [
    "import pandas as pd\n",
    "import numpy as np\n",
    "from sklearn.metrics import mean_absolute_error\n",
    "from sklearn.ensemble import RandomForestRegressor\n"
   ]
  },
  {
   "cell_type": "markdown",
   "metadata": {},
   "source": [
    "#### Reading the training and test set"
   ]
  },
  {
   "cell_type": "code",
   "execution_count": 4,
   "metadata": {
    "collapsed": true
   },
   "outputs": [],
   "source": [
    "air_data = pd.read_csv(\"Hackathon_AQI_train1.0.csv\")"
   ]
  },
  {
   "cell_type": "code",
   "execution_count": 5,
   "metadata": {
    "collapsed": true
   },
   "outputs": [],
   "source": [
    "test_air_data = pd.read_csv(\"Hackathon_AQI_test1.0.csv\")\n",
    "\n",
    "test_air_data1 = test_air_data.copy()\n",
    "test_air_data1=test_air_data1.drop(['Id'],axis=1)"
   ]
  },
  {
   "cell_type": "markdown",
   "metadata": {},
   "source": [
    "#### Description and Information on the data"
   ]
  },
  {
   "cell_type": "code",
   "execution_count": 6,
   "metadata": {},
   "outputs": [
    {
     "data": {
      "text/html": [
       "<div>\n",
       "<style>\n",
       "    .dataframe thead tr:only-child th {\n",
       "        text-align: right;\n",
       "    }\n",
       "\n",
       "    .dataframe thead th {\n",
       "        text-align: left;\n",
       "    }\n",
       "\n",
       "    .dataframe tbody tr th {\n",
       "        vertical-align: top;\n",
       "    }\n",
       "</style>\n",
       "<table border=\"1\" class=\"dataframe\">\n",
       "  <thead>\n",
       "    <tr style=\"text-align: right;\">\n",
       "      <th></th>\n",
       "      <th>State</th>\n",
       "      <th>Province</th>\n",
       "      <th>City</th>\n",
       "      <th>Date</th>\n",
       "      <th>Average_Value</th>\n",
       "      <th>Max_Value_of_the_Day</th>\n",
       "      <th>Hour_of_Max_Value</th>\n",
       "      <th>Pollutant_AQI</th>\n",
       "      <th>Pollutant_Type</th>\n",
       "    </tr>\n",
       "  </thead>\n",
       "  <tbody>\n",
       "    <tr>\n",
       "      <th>0</th>\n",
       "      <td>ST00</td>\n",
       "      <td>COT102</td>\n",
       "      <td>CT126</td>\n",
       "      <td>2011-01-29</td>\n",
       "      <td>34.043478</td>\n",
       "      <td>38.04</td>\n",
       "      <td>22</td>\n",
       "      <td>37</td>\n",
       "      <td>A</td>\n",
       "    </tr>\n",
       "    <tr>\n",
       "      <th>1</th>\n",
       "      <td>ST00</td>\n",
       "      <td>COT102</td>\n",
       "      <td>CT126</td>\n",
       "      <td>2011-02-10</td>\n",
       "      <td>25.217391</td>\n",
       "      <td>35.87</td>\n",
       "      <td>7</td>\n",
       "      <td>36</td>\n",
       "      <td>A</td>\n",
       "    </tr>\n",
       "    <tr>\n",
       "      <th>2</th>\n",
       "      <td>ST00</td>\n",
       "      <td>COT102</td>\n",
       "      <td>CT126</td>\n",
       "      <td>2011-06-03</td>\n",
       "      <td>13.500000</td>\n",
       "      <td>37.70</td>\n",
       "      <td>22</td>\n",
       "      <td>39</td>\n",
       "      <td>A</td>\n",
       "    </tr>\n",
       "    <tr>\n",
       "      <th>3</th>\n",
       "      <td>ST00</td>\n",
       "      <td>COT102</td>\n",
       "      <td>CT126</td>\n",
       "      <td>2011-09-18</td>\n",
       "      <td>10.695652</td>\n",
       "      <td>22.32</td>\n",
       "      <td>19</td>\n",
       "      <td>22</td>\n",
       "      <td>A</td>\n",
       "    </tr>\n",
       "    <tr>\n",
       "      <th>4</th>\n",
       "      <td>ST00</td>\n",
       "      <td>COT102</td>\n",
       "      <td>CT126</td>\n",
       "      <td>2012-02-08</td>\n",
       "      <td>39.250000</td>\n",
       "      <td>53.42</td>\n",
       "      <td>8</td>\n",
       "      <td>54</td>\n",
       "      <td>A</td>\n",
       "    </tr>\n",
       "  </tbody>\n",
       "</table>\n",
       "</div>"
      ],
      "text/plain": [
       "  State Province   City        Date  Average_Value  Max_Value_of_the_Day  \\\n",
       "0  ST00   COT102  CT126  2011-01-29      34.043478                 38.04   \n",
       "1  ST00   COT102  CT126  2011-02-10      25.217391                 35.87   \n",
       "2  ST00   COT102  CT126  2011-06-03      13.500000                 37.70   \n",
       "3  ST00   COT102  CT126  2011-09-18      10.695652                 22.32   \n",
       "4  ST00   COT102  CT126  2012-02-08      39.250000                 53.42   \n",
       "\n",
       "   Hour_of_Max_Value   Pollutant_AQI Pollutant_Type  \n",
       "0                  22             37              A  \n",
       "1                   7             36              A  \n",
       "2                  22             39              A  \n",
       "3                  19             22              A  \n",
       "4                   8             54              A  "
      ]
     },
     "execution_count": 6,
     "metadata": {},
     "output_type": "execute_result"
    }
   ],
   "source": [
    "air_data.head()"
   ]
  },
  {
   "cell_type": "code",
   "execution_count": 7,
   "metadata": {},
   "outputs": [
    {
     "data": {
      "text/plain": [
       "State                   0\n",
       "Province                0\n",
       "City                    0\n",
       "Date                    0\n",
       "Average_Value           0\n",
       "Max_Value_of_the_Day    0\n",
       "Hour_of_Max_Value       0\n",
       "Pollutant_AQI           0\n",
       "Pollutant_Type          0\n",
       "dtype: int64"
      ]
     },
     "execution_count": 7,
     "metadata": {},
     "output_type": "execute_result"
    }
   ],
   "source": [
    "air_data.isnull().sum()"
   ]
  },
  {
   "cell_type": "code",
   "execution_count": 8,
   "metadata": {},
   "outputs": [
    {
     "name": "stdout",
     "output_type": "stream",
     "text": [
      "<class 'pandas.core.frame.DataFrame'>\n",
      "RangeIndex: 17604 entries, 0 to 17603\n",
      "Data columns (total 9 columns):\n",
      "State                   17604 non-null object\n",
      "Province                17604 non-null object\n",
      "City                    17604 non-null object\n",
      "Date                    17604 non-null object\n",
      "Average_Value           17604 non-null float64\n",
      "Max_Value_of_the_Day    17604 non-null float64\n",
      "Hour_of_Max_Value       17604 non-null int64\n",
      "Pollutant_AQI           17604 non-null int64\n",
      "Pollutant_Type          17604 non-null object\n",
      "dtypes: float64(2), int64(2), object(5)\n",
      "memory usage: 894.0+ KB\n"
     ]
    }
   ],
   "source": [
    "air_data.info()"
   ]
  },
  {
   "cell_type": "code",
   "execution_count": 9,
   "metadata": {},
   "outputs": [
    {
     "data": {
      "text/html": [
       "<div>\n",
       "<style>\n",
       "    .dataframe thead tr:only-child th {\n",
       "        text-align: right;\n",
       "    }\n",
       "\n",
       "    .dataframe thead th {\n",
       "        text-align: left;\n",
       "    }\n",
       "\n",
       "    .dataframe tbody tr th {\n",
       "        vertical-align: top;\n",
       "    }\n",
       "</style>\n",
       "<table border=\"1\" class=\"dataframe\">\n",
       "  <thead>\n",
       "    <tr style=\"text-align: right;\">\n",
       "      <th></th>\n",
       "      <th>Average_Value</th>\n",
       "      <th>Max_Value_of_the_Day</th>\n",
       "      <th>Hour_of_Max_Value</th>\n",
       "      <th>Pollutant_AQI</th>\n",
       "    </tr>\n",
       "  </thead>\n",
       "  <tbody>\n",
       "    <tr>\n",
       "      <th>count</th>\n",
       "      <td>17604.000000</td>\n",
       "      <td>17604.000000</td>\n",
       "      <td>17604.000000</td>\n",
       "      <td>17604.000000</td>\n",
       "    </tr>\n",
       "    <tr>\n",
       "      <th>mean</th>\n",
       "      <td>3.845645</td>\n",
       "      <td>7.531067</td>\n",
       "      <td>9.273461</td>\n",
       "      <td>18.399739</td>\n",
       "    </tr>\n",
       "    <tr>\n",
       "      <th>std</th>\n",
       "      <td>7.275965</td>\n",
       "      <td>13.250808</td>\n",
       "      <td>7.099505</td>\n",
       "      <td>18.590594</td>\n",
       "    </tr>\n",
       "    <tr>\n",
       "      <th>min</th>\n",
       "      <td>-1.379167</td>\n",
       "      <td>-1.160000</td>\n",
       "      <td>0.000000</td>\n",
       "      <td>0.000000</td>\n",
       "    </tr>\n",
       "    <tr>\n",
       "      <th>25%</th>\n",
       "      <td>0.038250</td>\n",
       "      <td>0.050000</td>\n",
       "      <td>3.000000</td>\n",
       "      <td>3.000000</td>\n",
       "    </tr>\n",
       "    <tr>\n",
       "      <th>50%</th>\n",
       "      <td>0.412500</td>\n",
       "      <td>0.750000</td>\n",
       "      <td>9.000000</td>\n",
       "      <td>12.000000</td>\n",
       "    </tr>\n",
       "    <tr>\n",
       "      <th>75%</th>\n",
       "      <td>3.880208</td>\n",
       "      <td>8.750000</td>\n",
       "      <td>13.000000</td>\n",
       "      <td>30.000000</td>\n",
       "    </tr>\n",
       "    <tr>\n",
       "      <th>max</th>\n",
       "      <td>67.086957</td>\n",
       "      <td>145.320000</td>\n",
       "      <td>23.000000</td>\n",
       "      <td>192.000000</td>\n",
       "    </tr>\n",
       "  </tbody>\n",
       "</table>\n",
       "</div>"
      ],
      "text/plain": [
       "       Average_Value  Max_Value_of_the_Day  Hour_of_Max_Value   Pollutant_AQI\n",
       "count   17604.000000          17604.000000        17604.000000   17604.000000\n",
       "mean        3.845645              7.531067            9.273461      18.399739\n",
       "std         7.275965             13.250808            7.099505      18.590594\n",
       "min        -1.379167             -1.160000            0.000000       0.000000\n",
       "25%         0.038250              0.050000            3.000000       3.000000\n",
       "50%         0.412500              0.750000            9.000000      12.000000\n",
       "75%         3.880208              8.750000           13.000000      30.000000\n",
       "max        67.086957            145.320000           23.000000     192.000000"
      ]
     },
     "execution_count": 9,
     "metadata": {},
     "output_type": "execute_result"
    }
   ],
   "source": [
    "air_data.describe()"
   ]
  },
  {
   "cell_type": "code",
   "execution_count": 10,
   "metadata": {},
   "outputs": [
    {
     "data": {
      "text/html": [
       "<div>\n",
       "<style>\n",
       "    .dataframe thead tr:only-child th {\n",
       "        text-align: right;\n",
       "    }\n",
       "\n",
       "    .dataframe thead th {\n",
       "        text-align: left;\n",
       "    }\n",
       "\n",
       "    .dataframe tbody tr th {\n",
       "        vertical-align: top;\n",
       "    }\n",
       "</style>\n",
       "<table border=\"1\" class=\"dataframe\">\n",
       "  <thead>\n",
       "    <tr style=\"text-align: right;\">\n",
       "      <th></th>\n",
       "      <th>State</th>\n",
       "      <th>Province</th>\n",
       "      <th>City</th>\n",
       "      <th>Date</th>\n",
       "      <th>Pollutant_Type</th>\n",
       "    </tr>\n",
       "  </thead>\n",
       "  <tbody>\n",
       "    <tr>\n",
       "      <th>count</th>\n",
       "      <td>17604</td>\n",
       "      <td>17604</td>\n",
       "      <td>17604</td>\n",
       "      <td>17604</td>\n",
       "      <td>17604</td>\n",
       "    </tr>\n",
       "    <tr>\n",
       "      <th>unique</th>\n",
       "      <td>47</td>\n",
       "      <td>131</td>\n",
       "      <td>142</td>\n",
       "      <td>5589</td>\n",
       "      <td>4</td>\n",
       "    </tr>\n",
       "    <tr>\n",
       "      <th>top</th>\n",
       "      <td>ST42</td>\n",
       "      <td>COT23</td>\n",
       "      <td>CT03</td>\n",
       "      <td>2008-09-11</td>\n",
       "      <td>D</td>\n",
       "    </tr>\n",
       "    <tr>\n",
       "      <th>freq</th>\n",
       "      <td>5967</td>\n",
       "      <td>971</td>\n",
       "      <td>1293</td>\n",
       "      <td>13</td>\n",
       "      <td>4401</td>\n",
       "    </tr>\n",
       "  </tbody>\n",
       "</table>\n",
       "</div>"
      ],
      "text/plain": [
       "        State Province   City        Date Pollutant_Type\n",
       "count   17604    17604  17604       17604          17604\n",
       "unique     47      131    142        5589              4\n",
       "top      ST42    COT23   CT03  2008-09-11              D\n",
       "freq     5967      971   1293          13           4401"
      ]
     },
     "execution_count": 10,
     "metadata": {},
     "output_type": "execute_result"
    }
   ],
   "source": [
    "air_data.describe(include=['O'])"
   ]
  },
  {
   "cell_type": "markdown",
   "metadata": {},
   "source": [
    "#### Making note of the categorical, numerical predictors and the target variable"
   ]
  },
  {
   "cell_type": "code",
   "execution_count": 11,
   "metadata": {
    "collapsed": true
   },
   "outputs": [],
   "source": [
    "air_copy = air_data.copy()\n",
    "\n",
    "categorical_predictors = ['State','Province','City','Date','Pollutant_Type']\n",
    "numerical_predictors = ['Average_Value','Max_Value_of_the_Day','Hour_of_Max_Value']\n",
    "\n",
    "target = air_copy.Pollutant_AQI\n",
    "\n",
    "air_copy = air_copy.drop(['Pollutant_AQI'],axis=1)"
   ]
  },
  {
   "cell_type": "markdown",
   "metadata": {},
   "source": [
    "#### Splitting the data into train and test sets"
   ]
  },
  {
   "cell_type": "code",
   "execution_count": 12,
   "metadata": {
    "collapsed": true
   },
   "outputs": [],
   "source": [
    "from sklearn.model_selection import train_test_split\n",
    "\n",
    "train_X, test_X, train_Y, test_Y = train_test_split(air_copy,target, random_state=0)"
   ]
  },
  {
   "cell_type": "markdown",
   "metadata": {},
   "source": [
    "#### Feature engineering the Date column in both train and test sets for analysis"
   ]
  },
  {
   "cell_type": "code",
   "execution_count": 13,
   "metadata": {},
   "outputs": [
    {
     "name": "stderr",
     "output_type": "stream",
     "text": [
      "C:\\Users\\Priya\\Anaconda3\\lib\\site-packages\\ipykernel_launcher.py:4: SettingWithCopyWarning: \n",
      "A value is trying to be set on a copy of a slice from a DataFrame.\n",
      "Try using .loc[row_indexer,col_indexer] = value instead\n",
      "\n",
      "See the caveats in the documentation: http://pandas.pydata.org/pandas-docs/stable/indexing.html#indexing-view-versus-copy\n",
      "  after removing the cwd from sys.path.\n",
      "C:\\Users\\Priya\\Anaconda3\\lib\\site-packages\\ipykernel_launcher.py:5: SettingWithCopyWarning: \n",
      "A value is trying to be set on a copy of a slice from a DataFrame.\n",
      "Try using .loc[row_indexer,col_indexer] = value instead\n",
      "\n",
      "See the caveats in the documentation: http://pandas.pydata.org/pandas-docs/stable/indexing.html#indexing-view-versus-copy\n",
      "  \"\"\"\n",
      "C:\\Users\\Priya\\Anaconda3\\lib\\site-packages\\ipykernel_launcher.py:6: SettingWithCopyWarning: \n",
      "A value is trying to be set on a copy of a slice from a DataFrame.\n",
      "Try using .loc[row_indexer,col_indexer] = value instead\n",
      "\n",
      "See the caveats in the documentation: http://pandas.pydata.org/pandas-docs/stable/indexing.html#indexing-view-versus-copy\n",
      "  \n"
     ]
    }
   ],
   "source": [
    "import datetime as dt\n",
    "date1 = pd.to_datetime(train_X['Date'])\n",
    "\n",
    "train_X['Year'] = date1.dt.year\n",
    "train_X['Month'] =  date1.dt.month\n",
    "train_X['Day'] =  date1.dt.day\n",
    "train_X=train_X.drop(['Date'],axis=1)"
   ]
  },
  {
   "cell_type": "code",
   "execution_count": 14,
   "metadata": {},
   "outputs": [
    {
     "name": "stderr",
     "output_type": "stream",
     "text": [
      "C:\\Users\\Priya\\Anaconda3\\lib\\site-packages\\ipykernel_launcher.py:3: SettingWithCopyWarning: \n",
      "A value is trying to be set on a copy of a slice from a DataFrame.\n",
      "Try using .loc[row_indexer,col_indexer] = value instead\n",
      "\n",
      "See the caveats in the documentation: http://pandas.pydata.org/pandas-docs/stable/indexing.html#indexing-view-versus-copy\n",
      "  This is separate from the ipykernel package so we can avoid doing imports until\n",
      "C:\\Users\\Priya\\Anaconda3\\lib\\site-packages\\ipykernel_launcher.py:4: SettingWithCopyWarning: \n",
      "A value is trying to be set on a copy of a slice from a DataFrame.\n",
      "Try using .loc[row_indexer,col_indexer] = value instead\n",
      "\n",
      "See the caveats in the documentation: http://pandas.pydata.org/pandas-docs/stable/indexing.html#indexing-view-versus-copy\n",
      "  after removing the cwd from sys.path.\n",
      "C:\\Users\\Priya\\Anaconda3\\lib\\site-packages\\ipykernel_launcher.py:5: SettingWithCopyWarning: \n",
      "A value is trying to be set on a copy of a slice from a DataFrame.\n",
      "Try using .loc[row_indexer,col_indexer] = value instead\n",
      "\n",
      "See the caveats in the documentation: http://pandas.pydata.org/pandas-docs/stable/indexing.html#indexing-view-versus-copy\n",
      "  \"\"\"\n"
     ]
    }
   ],
   "source": [
    "date2 = pd.to_datetime(test_X['Date'])\n",
    "\n",
    "test_X['Year'] = date2.dt.year\n",
    "test_X['Month'] =  date2.dt.month\n",
    "test_X['Day'] =  date2.dt.day\n",
    "test_X=test_X.drop(['Date'],axis=1)"
   ]
  },
  {
   "cell_type": "markdown",
   "metadata": {},
   "source": [
    "#### Test Data given for prediction date variable feature engineering"
   ]
  },
  {
   "cell_type": "code",
   "execution_count": 15,
   "metadata": {
    "collapsed": true
   },
   "outputs": [],
   "source": [
    "date3 = pd.to_datetime(test_air_data1['Date'])\n",
    "\n",
    "test_air_data1['Year'] = date3.dt.year\n",
    "test_air_data1['Month'] =  date3.dt.month\n",
    "test_air_data1['Day'] =  date3.dt.day\n",
    "test_air_data1=test_air_data1.drop(['Date'],axis=1)"
   ]
  },
  {
   "cell_type": "markdown",
   "metadata": {},
   "source": [
    "#### Original encoding the categorical variables"
   ]
  },
  {
   "cell_type": "code",
   "execution_count": 16,
   "metadata": {},
   "outputs": [
    {
     "data": {
      "text/html": [
       "<div>\n",
       "<style>\n",
       "    .dataframe thead tr:only-child th {\n",
       "        text-align: right;\n",
       "    }\n",
       "\n",
       "    .dataframe thead th {\n",
       "        text-align: left;\n",
       "    }\n",
       "\n",
       "    .dataframe tbody tr th {\n",
       "        vertical-align: top;\n",
       "    }\n",
       "</style>\n",
       "<table border=\"1\" class=\"dataframe\">\n",
       "  <thead>\n",
       "    <tr style=\"text-align: right;\">\n",
       "      <th></th>\n",
       "      <th>State</th>\n",
       "      <th>Province</th>\n",
       "      <th>City</th>\n",
       "      <th>Average_Value</th>\n",
       "      <th>Max_Value_of_the_Day</th>\n",
       "      <th>Hour_of_Max_Value</th>\n",
       "      <th>Pollutant_Type</th>\n",
       "      <th>Year</th>\n",
       "      <th>Month</th>\n",
       "      <th>Day</th>\n",
       "    </tr>\n",
       "  </thead>\n",
       "  <tbody>\n",
       "    <tr>\n",
       "      <th>9076</th>\n",
       "      <td>7</td>\n",
       "      <td>80</td>\n",
       "      <td>97</td>\n",
       "      <td>7.916667</td>\n",
       "      <td>13.71</td>\n",
       "      <td>12</td>\n",
       "      <td>2</td>\n",
       "      <td>2008</td>\n",
       "      <td>12</td>\n",
       "      <td>26</td>\n",
       "    </tr>\n",
       "    <tr>\n",
       "      <th>245</th>\n",
       "      <td>8</td>\n",
       "      <td>18</td>\n",
       "      <td>122</td>\n",
       "      <td>9.041667</td>\n",
       "      <td>14.80</td>\n",
       "      <td>1</td>\n",
       "      <td>0</td>\n",
       "      <td>2008</td>\n",
       "      <td>2</td>\n",
       "      <td>16</td>\n",
       "    </tr>\n",
       "    <tr>\n",
       "      <th>13556</th>\n",
       "      <td>8</td>\n",
       "      <td>20</td>\n",
       "      <td>9</td>\n",
       "      <td>0.229167</td>\n",
       "      <td>0.28</td>\n",
       "      <td>7</td>\n",
       "      <td>3</td>\n",
       "      <td>2015</td>\n",
       "      <td>5</td>\n",
       "      <td>18</td>\n",
       "    </tr>\n",
       "    <tr>\n",
       "      <th>1309</th>\n",
       "      <td>14</td>\n",
       "      <td>126</td>\n",
       "      <td>90</td>\n",
       "      <td>9.958333</td>\n",
       "      <td>20.72</td>\n",
       "      <td>1</td>\n",
       "      <td>0</td>\n",
       "      <td>2012</td>\n",
       "      <td>3</td>\n",
       "      <td>24</td>\n",
       "    </tr>\n",
       "    <tr>\n",
       "      <th>7602</th>\n",
       "      <td>42</td>\n",
       "      <td>55</td>\n",
       "      <td>133</td>\n",
       "      <td>0.014708</td>\n",
       "      <td>0.03</td>\n",
       "      <td>10</td>\n",
       "      <td>1</td>\n",
       "      <td>2004</td>\n",
       "      <td>2</td>\n",
       "      <td>1</td>\n",
       "    </tr>\n",
       "  </tbody>\n",
       "</table>\n",
       "</div>"
      ],
      "text/plain": [
       "       State  Province  City  Average_Value  Max_Value_of_the_Day  \\\n",
       "9076       7        80    97       7.916667                 13.71   \n",
       "245        8        18   122       9.041667                 14.80   \n",
       "13556      8        20     9       0.229167                  0.28   \n",
       "1309      14       126    90       9.958333                 20.72   \n",
       "7602      42        55   133       0.014708                  0.03   \n",
       "\n",
       "       Hour_of_Max_Value   Pollutant_Type  Year  Month  Day  \n",
       "9076                   12               2  2008     12   26  \n",
       "245                     1               0  2008      2   16  \n",
       "13556                   7               3  2015      5   18  \n",
       "1309                    1               0  2012      3   24  \n",
       "7602                   10               1  2004      2    1  "
      ]
     },
     "execution_count": 16,
     "metadata": {},
     "output_type": "execute_result"
    }
   ],
   "source": [
    "for variable in train_X.columns: # Loop through all columns in the dataframe\n",
    "    if train_X[variable].dtype == 'object': # Only apply for columns with categorical strings\n",
    "        train_X[variable] = pd.Categorical(train_X[variable]).codes # Replace strings with an integer\n",
    "train_X.head()"
   ]
  },
  {
   "cell_type": "code",
   "execution_count": 17,
   "metadata": {},
   "outputs": [
    {
     "data": {
      "text/html": [
       "<div>\n",
       "<style>\n",
       "    .dataframe thead tr:only-child th {\n",
       "        text-align: right;\n",
       "    }\n",
       "\n",
       "    .dataframe thead th {\n",
       "        text-align: left;\n",
       "    }\n",
       "\n",
       "    .dataframe tbody tr th {\n",
       "        vertical-align: top;\n",
       "    }\n",
       "</style>\n",
       "<table border=\"1\" class=\"dataframe\">\n",
       "  <thead>\n",
       "    <tr style=\"text-align: right;\">\n",
       "      <th></th>\n",
       "      <th>State</th>\n",
       "      <th>Province</th>\n",
       "      <th>City</th>\n",
       "      <th>Average_Value</th>\n",
       "      <th>Max_Value_of_the_Day</th>\n",
       "      <th>Hour_of_Max_Value</th>\n",
       "      <th>Pollutant_Type</th>\n",
       "      <th>Year</th>\n",
       "      <th>Month</th>\n",
       "      <th>Day</th>\n",
       "    </tr>\n",
       "  </thead>\n",
       "  <tbody>\n",
       "    <tr>\n",
       "      <th>16328</th>\n",
       "      <td>41</td>\n",
       "      <td>55</td>\n",
       "      <td>93</td>\n",
       "      <td>0.212500</td>\n",
       "      <td>0.29</td>\n",
       "      <td>7</td>\n",
       "      <td>3</td>\n",
       "      <td>2007</td>\n",
       "      <td>6</td>\n",
       "      <td>6</td>\n",
       "    </tr>\n",
       "    <tr>\n",
       "      <th>17387</th>\n",
       "      <td>42</td>\n",
       "      <td>38</td>\n",
       "      <td>44</td>\n",
       "      <td>0.341667</td>\n",
       "      <td>0.68</td>\n",
       "      <td>23</td>\n",
       "      <td>3</td>\n",
       "      <td>2014</td>\n",
       "      <td>5</td>\n",
       "      <td>25</td>\n",
       "    </tr>\n",
       "    <tr>\n",
       "      <th>7049</th>\n",
       "      <td>41</td>\n",
       "      <td>11</td>\n",
       "      <td>116</td>\n",
       "      <td>0.025917</td>\n",
       "      <td>0.04</td>\n",
       "      <td>12</td>\n",
       "      <td>1</td>\n",
       "      <td>2003</td>\n",
       "      <td>2</td>\n",
       "      <td>18</td>\n",
       "    </tr>\n",
       "    <tr>\n",
       "      <th>295</th>\n",
       "      <td>8</td>\n",
       "      <td>20</td>\n",
       "      <td>9</td>\n",
       "      <td>16.125000</td>\n",
       "      <td>26.18</td>\n",
       "      <td>21</td>\n",
       "      <td>0</td>\n",
       "      <td>2002</td>\n",
       "      <td>7</td>\n",
       "      <td>18</td>\n",
       "    </tr>\n",
       "    <tr>\n",
       "      <th>14044</th>\n",
       "      <td>10</td>\n",
       "      <td>51</td>\n",
       "      <td>68</td>\n",
       "      <td>0.245833</td>\n",
       "      <td>0.28</td>\n",
       "      <td>0</td>\n",
       "      <td>3</td>\n",
       "      <td>2008</td>\n",
       "      <td>5</td>\n",
       "      <td>25</td>\n",
       "    </tr>\n",
       "  </tbody>\n",
       "</table>\n",
       "</div>"
      ],
      "text/plain": [
       "       State  Province  City  Average_Value  Max_Value_of_the_Day  \\\n",
       "16328     41        55    93       0.212500                  0.29   \n",
       "17387     42        38    44       0.341667                  0.68   \n",
       "7049      41        11   116       0.025917                  0.04   \n",
       "295        8        20     9      16.125000                 26.18   \n",
       "14044     10        51    68       0.245833                  0.28   \n",
       "\n",
       "       Hour_of_Max_Value   Pollutant_Type  Year  Month  Day  \n",
       "16328                   7               3  2007      6    6  \n",
       "17387                  23               3  2014      5   25  \n",
       "7049                   12               1  2003      2   18  \n",
       "295                    21               0  2002      7   18  \n",
       "14044                   0               3  2008      5   25  "
      ]
     },
     "execution_count": 17,
     "metadata": {},
     "output_type": "execute_result"
    }
   ],
   "source": [
    "for variable in test_X.columns: # Loop through all columns in the dataframe\n",
    "    if test_X[variable].dtype == 'object': # Only apply for columns with categorical strings\n",
    "        test_X[variable] = pd.Categorical(test_X[variable]).codes # Replace strings with an integer\n",
    "test_X.head()"
   ]
  },
  {
   "cell_type": "markdown",
   "metadata": {},
   "source": [
    "#### Original encoding the test data given for prediction"
   ]
  },
  {
   "cell_type": "code",
   "execution_count": 18,
   "metadata": {},
   "outputs": [
    {
     "data": {
      "text/html": [
       "<div>\n",
       "<style>\n",
       "    .dataframe thead tr:only-child th {\n",
       "        text-align: right;\n",
       "    }\n",
       "\n",
       "    .dataframe thead th {\n",
       "        text-align: left;\n",
       "    }\n",
       "\n",
       "    .dataframe tbody tr th {\n",
       "        vertical-align: top;\n",
       "    }\n",
       "</style>\n",
       "<table border=\"1\" class=\"dataframe\">\n",
       "  <thead>\n",
       "    <tr style=\"text-align: right;\">\n",
       "      <th></th>\n",
       "      <th>State</th>\n",
       "      <th>Province</th>\n",
       "      <th>City</th>\n",
       "      <th>Average_Value</th>\n",
       "      <th>Max_Value_of_the_Day</th>\n",
       "      <th>Hour_of_Max_Value</th>\n",
       "      <th>Pollutant_Type</th>\n",
       "      <th>Year</th>\n",
       "      <th>Month</th>\n",
       "      <th>Day</th>\n",
       "    </tr>\n",
       "  </thead>\n",
       "  <tbody>\n",
       "    <tr>\n",
       "      <th>0</th>\n",
       "      <td>0</td>\n",
       "      <td>12</td>\n",
       "      <td>38</td>\n",
       "      <td>42.409091</td>\n",
       "      <td>51.74</td>\n",
       "      <td>23</td>\n",
       "      <td>0</td>\n",
       "      <td>2011</td>\n",
       "      <td>1</td>\n",
       "      <td>11</td>\n",
       "    </tr>\n",
       "    <tr>\n",
       "      <th>1</th>\n",
       "      <td>0</td>\n",
       "      <td>12</td>\n",
       "      <td>38</td>\n",
       "      <td>12.000000</td>\n",
       "      <td>30.48</td>\n",
       "      <td>5</td>\n",
       "      <td>0</td>\n",
       "      <td>2011</td>\n",
       "      <td>4</td>\n",
       "      <td>10</td>\n",
       "    </tr>\n",
       "    <tr>\n",
       "      <th>2</th>\n",
       "      <td>0</td>\n",
       "      <td>12</td>\n",
       "      <td>38</td>\n",
       "      <td>10.782609</td>\n",
       "      <td>27.54</td>\n",
       "      <td>6</td>\n",
       "      <td>0</td>\n",
       "      <td>2011</td>\n",
       "      <td>5</td>\n",
       "      <td>20</td>\n",
       "    </tr>\n",
       "    <tr>\n",
       "      <th>3</th>\n",
       "      <td>0</td>\n",
       "      <td>12</td>\n",
       "      <td>38</td>\n",
       "      <td>6.800000</td>\n",
       "      <td>21.40</td>\n",
       "      <td>22</td>\n",
       "      <td>0</td>\n",
       "      <td>2011</td>\n",
       "      <td>5</td>\n",
       "      <td>29</td>\n",
       "    </tr>\n",
       "    <tr>\n",
       "      <th>4</th>\n",
       "      <td>0</td>\n",
       "      <td>12</td>\n",
       "      <td>38</td>\n",
       "      <td>16.333333</td>\n",
       "      <td>29.09</td>\n",
       "      <td>21</td>\n",
       "      <td>0</td>\n",
       "      <td>2011</td>\n",
       "      <td>6</td>\n",
       "      <td>28</td>\n",
       "    </tr>\n",
       "  </tbody>\n",
       "</table>\n",
       "</div>"
      ],
      "text/plain": [
       "   State  Province  City  Average_Value  Max_Value_of_the_Day  \\\n",
       "0      0        12    38      42.409091                 51.74   \n",
       "1      0        12    38      12.000000                 30.48   \n",
       "2      0        12    38      10.782609                 27.54   \n",
       "3      0        12    38       6.800000                 21.40   \n",
       "4      0        12    38      16.333333                 29.09   \n",
       "\n",
       "   Hour_of_Max_Value   Pollutant_Type  Year  Month  Day  \n",
       "0                  23               0  2011      1   11  \n",
       "1                   5               0  2011      4   10  \n",
       "2                   6               0  2011      5   20  \n",
       "3                  22               0  2011      5   29  \n",
       "4                  21               0  2011      6   28  "
      ]
     },
     "execution_count": 18,
     "metadata": {},
     "output_type": "execute_result"
    }
   ],
   "source": [
    "for variable in test_air_data1.columns: # Loop through all columns in the dataframe\n",
    "    if test_air_data1[variable].dtype == 'object': # Only apply for columns with categorical strings\n",
    "        test_air_data1[variable] = pd.Categorical(test_air_data1[variable]).codes # Replace strings with an integer\n",
    "test_air_data1.head()"
   ]
  },
  {
   "cell_type": "markdown",
   "metadata": {},
   "source": [
    "### Using Decision tree regressor for prediction"
   ]
  },
  {
   "cell_type": "code",
   "execution_count": 19,
   "metadata": {
    "collapsed": true
   },
   "outputs": [],
   "source": [
    "from sklearn.tree import DecisionTreeRegressor\n",
    "from sklearn.metrics import mean_absolute_error\n",
    "def getMae(max_leaf_nodes, train_X,test_X, train_Y, test_Y):\n",
    "    model = DecisionTreeRegressor()\n",
    "    \n",
    "    model.fit(train_X, train_Y)\n",
    "    predicted_values = model.predict(test_X)\n",
    "    mae = mean_absolute_error(test_Y,predicted_values )\n",
    "    return mae"
   ]
  },
  {
   "cell_type": "markdown",
   "metadata": {},
   "source": [
    "#### For different value of Max leaf nodes calculating the mean absolute error"
   ]
  },
  {
   "cell_type": "code",
   "execution_count": 21,
   "metadata": {},
   "outputs": [
    {
     "name": "stdout",
     "output_type": "stream",
     "text": [
      "leaf : 5 \t\t Mae : 1\n",
      "leaf : 50 \t\t Mae : 1\n",
      "leaf : 500 \t\t Mae : 1\n"
     ]
    }
   ],
   "source": [
    "for leaf in [5,50,500]:\n",
    "    mae = getMae(leaf,train_X,test_X, train_Y, test_Y)\n",
    "    print(\"leaf : %d \\t\\t Mae : %d\" %(leaf,mae))"
   ]
  },
  {
   "cell_type": "markdown",
   "metadata": {},
   "source": [
    "#### Dropping the province variable which has too many unique values"
   ]
  },
  {
   "cell_type": "code",
   "execution_count": 22,
   "metadata": {
    "collapsed": true
   },
   "outputs": [],
   "source": [
    "train_X2 = train_X.drop(['Province'],axis=1)\n",
    "test_X2 = test_X.drop(['Province'],axis=1)\n",
    "test_air_data2 = test_air_data1.drop(['Province'],axis=1)"
   ]
  },
  {
   "cell_type": "markdown",
   "metadata": {},
   "source": [
    "#### Applying Random Forest regressor for predicting the values"
   ]
  },
  {
   "cell_type": "code",
   "execution_count": 23,
   "metadata": {},
   "outputs": [
    {
     "name": "stdout",
     "output_type": "stream",
     "text": [
      "0.903726425812\n"
     ]
    }
   ],
   "source": [
    "model2 = RandomForestRegressor()\n",
    "model2.fit(train_X2,train_Y)\n",
    "pred = model2.predict(test_X2)\n",
    "print(mean_absolute_error(test_Y,pred))"
   ]
  },
  {
   "cell_type": "markdown",
   "metadata": {},
   "source": [
    "#### Calculating the predicted values for the given test set"
   ]
  },
  {
   "cell_type": "code",
   "execution_count": 24,
   "metadata": {
    "collapsed": true
   },
   "outputs": [],
   "source": [
    "predicted_AQI = model2.predict(test_air_data2)"
   ]
  },
  {
   "cell_type": "markdown",
   "metadata": {},
   "source": [
    "#### Using XGBoost to test the model perfomance"
   ]
  },
  {
   "cell_type": "code",
   "execution_count": 25,
   "metadata": {},
   "outputs": [
    {
     "name": "stderr",
     "output_type": "stream",
     "text": [
      "C:\\Users\\Priya\\Anaconda3\\lib\\site-packages\\sklearn\\cross_validation.py:44: DeprecationWarning: This module was deprecated in version 0.18 in favor of the model_selection module into which all the refactored classes and functions are moved. Also note that the interface of the new CV iterators are different from that of this module. This module will be removed in 0.20.\n",
      "  \"This module will be removed in 0.20.\", DeprecationWarning)\n"
     ]
    },
    {
     "name": "stdout",
     "output_type": "stream",
     "text": [
      "Mean Absolute Error : 1.2860398518\n"
     ]
    }
   ],
   "source": [
    "from xgboost import XGBRegressor\n",
    "\n",
    "train_X.apply(pd.to_numeric)\n",
    "test_X.apply(pd.to_numeric)\n",
    "my_model = XGBRegressor(n_estimators=800, learning_rate=0.05)\n",
    "my_model.fit(train_X, train_Y, early_stopping_rounds=5, eval_set=[(test_X, test_Y)], verbose=False)\n",
    "\n",
    "# make predictions\n",
    "predictions = my_model.predict(test_X)\n",
    "print(\"Mean Absolute Error : \" + str(mean_absolute_error(predictions, test_Y)))\n"
   ]
  },
  {
   "cell_type": "markdown",
   "metadata": {},
   "source": [
    "### Out of all Random Forest Regressor performs the best"
   ]
  },
  {
   "cell_type": "code",
   "execution_count": 16,
   "metadata": {
    "collapsed": true
   },
   "outputs": [],
   "source": [
    "#predictions = my_model.predict(test_air_data1)\n",
    "\n",
    "my_submission = pd.DataFrame({'Id': test_air_data.Id, 'Pollutant_AQI': predicted_AQI.astype(int)})\n",
    "# you could use any filename. We choose submission here\n",
    "my_submission.to_csv('submission.csv', index=False)"
   ]
  }
 ],
 "metadata": {
  "kernelspec": {
   "display_name": "Python 3",
   "language": "python",
   "name": "python3"
  },
  "language_info": {
   "codemirror_mode": {
    "name": "ipython",
    "version": 3
   },
   "file_extension": ".py",
   "mimetype": "text/x-python",
   "name": "python",
   "nbconvert_exporter": "python",
   "pygments_lexer": "ipython3",
   "version": "3.6.1"
  }
 },
 "nbformat": 4,
 "nbformat_minor": 2
}
